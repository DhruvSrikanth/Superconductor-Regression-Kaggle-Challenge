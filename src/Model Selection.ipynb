{
 "cells": [
  {
   "cell_type": "code",
   "execution_count": 2,
   "id": "770df658",
   "metadata": {},
   "outputs": [],
   "source": [
    "import pandas as pd\n",
    "\n",
    "from sklearn.linear_model import LinearRegression\n",
    "from sklearn.svm import SVR\n",
    "from sklearn import linear_model\n",
    "from sklearn.ensemble import RandomForestRegressor\n",
    "\n",
    "from utils import split_data, normalize, dimensionality_reduction, fit_model, evaluate_model"
   ]
  },
  {
   "cell_type": "code",
   "execution_count": 3,
   "id": "d23459dd",
   "metadata": {},
   "outputs": [],
   "source": [
    "training_df = pd.read_csv('training.csv')"
   ]
  },
  {
   "cell_type": "code",
   "execution_count": 4,
   "id": "11db7ba5",
   "metadata": {},
   "outputs": [],
   "source": [
    "def model_selection(models, training_df):\n",
    "    '''\n",
    "    Determine degree of accuracy for each model provided on the data.\n",
    "    '''\n",
    "    X_train, X_validation, y_train, y_validation = split_data(training_df) # split training data\n",
    "    X_train, X_validation = normalize(X_train, X_validation) # normalize training and validation data\n",
    "    X_train, X_validation = dimensionality_reduction(X_train, X_validation) # perform dimensionality reduction on training and validation data\n",
    "        \n",
    "    results = []\n",
    "    for model in models:\n",
    "        model = fit_model(model, X_train, y_train) # fit model\n",
    "        result = evaluate_model(model, X_validation, y_validation) # evaluate model\n",
    "        results.append(result)\n",
    "    return results\n",
    "    \n"
   ]
  },
  {
   "cell_type": "code",
   "execution_count": 5,
   "id": "4eb7d988",
   "metadata": {},
   "outputs": [],
   "source": [
    "models = []\n",
    "models.append(LinearRegression()) # model for linear regression\n",
    "models.append(SVR()) # model for support vector regression\n",
    "models.append(linear_model.Lasso(alpha=0.1)) # model for lasso regression\n",
    "models.append(RandomForestRegressor(n_estimators = 100, random_state = 0)) # model for reandom forest regression\n"
   ]
  },
  {
   "cell_type": "code",
   "execution_count": 6,
   "id": "6c60e07c",
   "metadata": {},
   "outputs": [],
   "source": [
    "model_results = model_selection(models, training_df)"
   ]
  },
  {
   "cell_type": "code",
   "execution_count": 7,
   "id": "7f8b907b",
   "metadata": {},
   "outputs": [
    {
     "name": "stdout",
     "output_type": "stream",
     "text": [
      "Results of model training:\n",
      "LinearRegression RMSE = 22.2516\n",
      "SVR RMSE = 17.4962\n",
      "Lasso RMSE = 22.247\n",
      "RandomForestRegressor RMSE = 10.3225\n"
     ]
    }
   ],
   "source": [
    "print(\"Results of model training:\")\n",
    "for result in model_results:\n",
    "    print(result)"
   ]
  },
  {
   "cell_type": "code",
   "execution_count": 8,
   "id": "d93b2596",
   "metadata": {},
   "outputs": [],
   "source": [
    "# Conclusions:\n",
    "# Linear regression performed the worst. This is possible for the following reasons - the data we are trying to model is non linear and possible overfitting.\n",
    "# Lasso regression performed slightly better than linear regression. This could be since the model is more resilient towards overfitting, however, is susceptible to leaving out key features as only 1 feature is selected from a group of correlated features.\n",
    "# Support vector regression performed a lot better than linear and lasso since it is resilient to outliers, however, it is possible that there is still noise affecting the model.\n",
    "# Random forest regression seemed to perform the best since it is good at modelling non linear relationships.\n",
    "\n",
    "\n"
   ]
  },
  {
   "cell_type": "code",
   "execution_count": null,
   "id": "ba255cca",
   "metadata": {},
   "outputs": [],
   "source": []
  }
 ],
 "metadata": {
  "kernelspec": {
   "display_name": "Python 3 (ipykernel)",
   "language": "python",
   "name": "python3"
  },
  "language_info": {
   "codemirror_mode": {
    "name": "ipython",
    "version": 3
   },
   "file_extension": ".py",
   "mimetype": "text/x-python",
   "name": "python",
   "nbconvert_exporter": "python",
   "pygments_lexer": "ipython3",
   "version": "3.8.11"
  }
 },
 "nbformat": 4,
 "nbformat_minor": 5
}
