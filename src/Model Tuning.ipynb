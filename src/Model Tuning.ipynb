{
 "cells": [
  {
   "cell_type": "code",
   "execution_count": 1,
   "id": "4c32d57d",
   "metadata": {},
   "outputs": [],
   "source": [
    "# We will use the Random Forest Regression model based on our findings in the Model Selection file"
   ]
  },
  {
   "cell_type": "code",
   "execution_count": 2,
   "id": "b903c887",
   "metadata": {},
   "outputs": [],
   "source": [
    "import pandas as pd\n",
    "\n",
    "from sklearn.model_selection import cross_val_score\n",
    "from sklearn.ensemble import RandomForestRegressor\n",
    "    \n",
    "from utils import split_data, normalize, dimensionality_reduction, fit_model, evaluate_model"
   ]
  },
  {
   "cell_type": "code",
   "execution_count": 3,
   "id": "b6c095ef",
   "metadata": {},
   "outputs": [],
   "source": [
    "training_df = pd.read_csv('training.csv')"
   ]
  },
  {
   "cell_type": "code",
   "execution_count": 4,
   "id": "992ad3e6",
   "metadata": {},
   "outputs": [],
   "source": [
    "def model_tuning(training_df):\n",
    "    '''\n",
    "    Determine model performance for difference hyperparameters - n_estimators, max_depth.\n",
    "    This portion of the code was executed on Google Colab to speed up the process.\n",
    "    '''\n",
    "    X_train, X_validation, y_train, y_validation = split_data(training_df) # split data into training and validation\n",
    "    X_train, X_validation = normalize(X_train, X_validation) # normalize data\n",
    "    X_train, X_validation = dimensionality_reduction(X_train, X_validation) # perform dimensionality reduction on data\n",
    "        \n",
    "    performance = {}\n",
    "    for n in range(1, 101):\n",
    "        for d in range(1, 51):\n",
    "            model = RandomForestRegressor(n_estimators = n, max_depth = d, random_state = 0)\n",
    "            k_cv_score = cross_val_score(model, X_train, y_train, cv=10, scoring='r2').mean() # performing k fold cross validation, k = 10, scoring metric - r^2\n",
    "            performance[(n,d)] = k_cv_score # recording performance for every value of n_estimators and max_depth hyperparameters in specified ranges\n",
    "    \n",
    "    return performance\n",
    "    \n"
   ]
  },
  {
   "cell_type": "code",
   "execution_count": 5,
   "id": "f22149d5",
   "metadata": {},
   "outputs": [
    {
     "name": "stdout",
     "output_type": "stream",
     "text": [
      "Best Hyperparameters for Random Forest Regression Model:\n",
      "1. No. of estimators = 80\n",
      "2. Max depth = 20\n"
     ]
    }
   ],
   "source": [
    "performance = model_tuning(training_df) # get performance for every pair of n_estimators, max_depth in ranges [1,100] and [1,50] respectively\n",
    "best_n, best_d = max(performance, key=performance.get) # get hyperparameter values for best performance\n",
    "print(\"Best Hyperparameters for Random Forest Regression Model:\\n1. No. of estimators = {}\\n2. Max depth = {}\".format(best_n, best_d))\n"
   ]
  },
  {
   "cell_type": "code",
   "execution_count": null,
   "id": "9af1b99a",
   "metadata": {},
   "outputs": [],
   "source": []
  }
 ],
 "metadata": {
  "kernelspec": {
   "display_name": "Python 3 (ipykernel)",
   "language": "python",
   "name": "python3"
  },
  "language_info": {
   "codemirror_mode": {
    "name": "ipython",
    "version": 3
   },
   "file_extension": ".py",
   "mimetype": "text/x-python",
   "name": "python",
   "nbconvert_exporter": "python",
   "pygments_lexer": "ipython3",
   "version": "3.8.11"
  }
 },
 "nbformat": 4,
 "nbformat_minor": 5
}
